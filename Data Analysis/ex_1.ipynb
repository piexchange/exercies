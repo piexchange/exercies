{
 "cells": [
  {
   "cell_type": "code",
   "execution_count": null,
   "metadata": {},
   "outputs": [],
   "source": [
    "import zipfile\n",
    "import pandas as pd\n",
    "\n",
    "# Step 1 - Download the data \n",
    "! wget https://raw.githubusercontent.com/piexchange/exercises/main/Data%20Analysis/Data/tmdb.zip\n",
    "\n",
    "# Step 2 - Unzip the files into a folder called \"data\"\n",
    "!mkdir -p \"data\"\n",
    "path_to_zip_file = 'tmdb.zip'\n",
    "directory_to_extract_to = 'data'\n",
    "with zipfile.ZipFile(path_to_zip_file, 'r') as zip_ref:\n",
    "    zip_ref.extractall(directory_to_extract_to)\n",
    "\n",
    "!rm \"tmdb.zip\"\n",
    "\n",
    "# Step 3 - import the datasets\n",
    "df_movies = pd.read_csv('data/tmdb_5000_movies.csv')\n",
    "df_credits = pd.read_csv('data/tmdb_5000_credits.csv')\n",
    "\n",
    "# Step 4 - preview the datasets\n",
    "print(\"tmdb_5000_movies.csv:\\n----------------------\")\n",
    "display(df_movies.head())\n",
    "print(\"\\ntmdb_5000_credits.csv:\\n----------------------\")\n",
    "display(df_credits.head())\n",
    "\n",
    "#### Hint: How to extract JSON values in columns? \n",
    "# By example:\n",
    "# df_credits['crew'] = df_credits['crew'].apply(lambda x:json.loads(x))\n",
    "# tmp_df = df_credits.explode('crew')\n",
    "# tmp_df['credit_id'] = tmp_df['crew'].apply(lambda x: x.get('credit_id') if isinstance(x, dict) else None)"
   ]
  }
 ],
 "metadata": {
  "interpreter": {
   "hash": "0c767341d0a264e6068f68e88919804e9a98c152ec32cfd6164bde73ab356ca7"
  },
  "kernelspec": {
   "display_name": "Python 3.7.6 64-bit ('data-wrangling': pyenv)",
   "language": "python",
   "name": "python3"
  },
  "language_info": {
   "codemirror_mode": {
    "name": "ipython",
    "version": 3
   },
   "file_extension": ".py",
   "mimetype": "text/x-python",
   "name": "python",
   "nbconvert_exporter": "python",
   "pygments_lexer": "ipython3",
   "version": "3.7.6"
  },
  "orig_nbformat": 4
 },
 "nbformat": 4,
 "nbformat_minor": 2
}
