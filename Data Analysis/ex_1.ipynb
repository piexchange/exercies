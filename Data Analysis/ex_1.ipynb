{
 "cells": [
  {
   "cell_type": "code",
   "execution_count": null,
   "metadata": {},
   "outputs": [],
   "source": [
    "import json\n",
    " \n",
    "# Step 1 - Upload JSON credentials file (that you have created)\n",
    "from google.colab import files\n",
    "files.upload()  #this will prompt you to upload the kaggle.json. Download from Kaggle>Kaggle API-file.json. Save to PC to PC folder and choose it here\n",
    "\n",
    "# Step 2 - Assuming a Linux kernel, the following lines will copy the credentials to the \"right\" place. If you're working locall\n",
    "!mkdir -p ~/.kaggle\n",
    "!cp kaggle.json ~/.kaggle/\n",
    "!ls ~/.kaggle\n",
    "!chmod 600 /root/.kaggle/kaggle.json  # set permission\n",
    "\n",
    "# Step 3 - Download the dataset\n",
    "!kaggle datasets download -d tmdb/tmdb-movie-metadata\n",
    "\n",
    "# Step 4 - Unzip the files. You can modify the following paths\n",
    "import zipfile\n",
    "path_to_zip_file = '/content/tmdb-movie-metadata.zip'\n",
    "directory_to_extract_to = '/content'\n",
    "\n",
    "with zipfile.ZipFile(path_to_zip_file, 'r') as zip_ref:\n",
    "    zip_ref.extractall(directory_to_extract_to)\n",
    "\n",
    "# Step 5 - import the datasets\n",
    "import pandas as pd\n",
    "df_movies = pd.read_csv('/content/tmdb_5000_movies.csv')\n",
    "df_credits = pd.read_csv('/content/tmdb_5000_credits.csv')\n",
    "\n",
    "# Step 6 - preview the datasets\n",
    "display(df_movies.head())\n",
    "display(df_credits.head())\n",
    "\n",
    "#### Hint: How to extract JSON values in columns? \n",
    "# By example:\n",
    "# df_credits['crew'] = df_credits['crew'].apply(lambda x:json.loads(x))\n",
    "# tmp_df = df_credits.explode('crew')\n",
    "# tmp_df['credit_id'] = tmp_df['crew'].apply(lambda x: x.get('credit_id') if isinstance(x, dict) else None)"
   ]
  }
 ],
 "metadata": {
  "language_info": {
   "name": "python"
  },
  "orig_nbformat": 4
 },
 "nbformat": 4,
 "nbformat_minor": 2
}
